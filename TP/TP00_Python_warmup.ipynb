{
  "cells": [
    {
      "cell_type": "markdown",
      "metadata": {
        "id": "view-in-github",
        "colab_type": "text"
      },
      "source": [
        "<a href=\"https://colab.research.google.com/github/kscaman/MAP583/blob/main/TP/TP00_Python_warmup.ipynb\" target=\"_parent\"><img src=\"https://colab.research.google.com/assets/colab-badge.svg\" alt=\"Open In Colab\"/></a>"
      ]
    },
    {
      "cell_type": "markdown",
      "id": "7f6764cf-55c2-4056-a8d3-8fa932536e93",
      "metadata": {
        "id": "7f6764cf-55c2-4056-a8d3-8fa932536e93"
      },
      "source": [
        "# TP00 - Warmup with Python and Numpy"
      ]
    },
    {
      "cell_type": "code",
      "execution_count": null,
      "id": "8d9a4f2c-e151-44f2-9171-cf4e6499ea8e",
      "metadata": {
        "id": "8d9a4f2c-e151-44f2-9171-cf4e6499ea8e",
        "outputId": "fc21828c-0738-4f10-dfd5-e9f8bcd9427c"
      },
      "outputs": [
        {
          "name": "stdout",
          "output_type": "stream",
          "text": [
            "Collecting git+https://gitlab.com/robindar/dl-scaman_checker.git@development\n",
            "  Cloning https://gitlab.com/robindar/dl-scaman_checker.git (to revision development) to /tmp/pip-req-build-7p7ywfwn\n",
            "  Running command git clone --filter=blob:none --quiet https://gitlab.com/robindar/dl-scaman_checker.git /tmp/pip-req-build-7p7ywfwn\n",
            "  Running command git checkout -b development --track origin/development\n",
            "  Switched to a new branch 'development'\n",
            "  Branch 'development' set up to track remote branch 'development' from 'origin'.\n",
            "  Resolved https://gitlab.com/robindar/dl-scaman_checker.git to commit d01f9c3b76f5556064401d5e83ea5ea1efd75898\n",
            "  Preparing metadata (setup.py) ... \u001b[?25ldone\n",
            "\u001b[?25hRequirement already satisfied: numpy in /home/drobin/workspace/these/codes/torch-venv/lib/python3.10/site-packages (from dl-scaman-checker==0.7.3) (1.26.2)\n",
            "Requirement already satisfied: packaging in /home/drobin/workspace/these/codes/torch-venv/lib/python3.10/site-packages (from dl-scaman-checker==0.7.3) (23.2)\n",
            "Requirement already satisfied: scipy>1.13 in /home/drobin/workspace/these/codes/torch-venv/lib/python3.10/site-packages (from dl-scaman-checker==0.7.3) (1.15.1)\n",
            "[\u001b[92mDONE\u001b[00m] Install ok. Version is v0.7.3\n"
          ]
        }
      ],
      "source": [
        "!pip install --upgrade \"git+https://gitlab.com/robindar/dl-scaman_checker.git@development\"\n",
        "from dl_scaman_checker import TP00\n",
        "TP00.check_install(requires=\"0.7.3\")"
      ]
    },
    {
      "cell_type": "code",
      "execution_count": null,
      "id": "8ae816f4-1830-47ed-b3e2-df70f5d65815",
      "metadata": {
        "id": "8ae816f4-1830-47ed-b3e2-df70f5d65815"
      },
      "outputs": [],
      "source": [
        "from typing import List, Any"
      ]
    },
    {
      "cell_type": "markdown",
      "id": "4032712c-9532-482a-9dae-dc482b45c238",
      "metadata": {
        "id": "4032712c-9532-482a-9dae-dc482b45c238"
      },
      "source": [
        "# Part A - Python basics, generic object manipulation\n",
        "\n",
        "## A.1 - Fizz buzz (integer manipulation)\n",
        "\n",
        "Return a list of the numbers from one to $n$ (endpoints included), but each multiple of $3$ is replaced by \"fizz\", each multiple of $5$ is replaced by \"buzz\", and number that is a multiple of both 3 and 5 is replaced by \"fizzbuzz\".\n",
        "For instance `fizzbuzz(7) := [ 1, 2, \"fizz\", 4, \"buzz\", 6, 7 ]`."
      ]
    },
    {
      "cell_type": "code",
      "execution_count": null,
      "id": "988781e4-8ef2-4a44-a4e2-7d47df234bdb",
      "metadata": {
        "id": "988781e4-8ef2-4a44-a4e2-7d47df234bdb"
      },
      "outputs": [],
      "source": [
        "def fizzbuzz(i : int) -> List[int | str]:\n",
        "    # TODO: your code here\n",
        "    return []"
      ]
    },
    {
      "cell_type": "code",
      "execution_count": null,
      "id": "372cbd3f-c002-47ab-9c71-c96e5dc60b17",
      "metadata": {
        "id": "372cbd3f-c002-47ab-9c71-c96e5dc60b17",
        "outputId": "b4d6a7bb-a049-45a4-bccd-44f12a0ddb0b"
      },
      "outputs": [
        {
          "data": {
            "text/plain": [
              "[]"
            ]
          },
          "execution_count": 4,
          "metadata": {},
          "output_type": "execute_result"
        }
      ],
      "source": [
        "fizzbuzz(16)"
      ]
    },
    {
      "cell_type": "code",
      "execution_count": null,
      "id": "7e3b9835-c450-474e-b3e1-703c8a399dba",
      "metadata": {
        "id": "7e3b9835-c450-474e-b3e1-703c8a399dba",
        "outputId": "0b71283d-9007-429b-b252-7bef6c84ef1f"
      },
      "outputs": [
        {
          "name": "stdout",
          "output_type": "stream",
          "text": [
            "[\u001b[91mFAIL\u001b[00m] Incorrect output on input '1'.\n"
          ]
        }
      ],
      "source": [
        "TP00.check_fizzbuzz(fizzbuzz)"
      ]
    },
    {
      "cell_type": "markdown",
      "id": "3b699450-1b49-4c21-8187-5bc0b0427fae",
      "metadata": {
        "id": "3b699450-1b49-4c21-8187-5bc0b0427fae"
      },
      "source": [
        "## A.2 - Palindrome check (string manipulation)\n",
        "\n",
        "A palindrome is a string which reads the same backwards and forward. Check that the given string is a palindrome.\n",
        "For instance, `is_palindrome(\"racecar\") := True`, but `is_palindrome(\"python\") := False`."
      ]
    },
    {
      "cell_type": "code",
      "execution_count": null,
      "id": "3309d67e-f0ba-4b67-8ee2-829915deda02",
      "metadata": {
        "id": "3309d67e-f0ba-4b67-8ee2-829915deda02"
      },
      "outputs": [],
      "source": [
        "def is_palindrome(a : str) -> bool:\n",
        "    # TODO: your code here\n",
        "    return False"
      ]
    },
    {
      "cell_type": "code",
      "execution_count": null,
      "id": "b75201ea-cbc5-4453-a2e4-685fbdd167af",
      "metadata": {
        "id": "b75201ea-cbc5-4453-a2e4-685fbdd167af",
        "outputId": "2d302234-34d5-47d1-b897-ad262609fb39"
      },
      "outputs": [
        {
          "data": {
            "text/plain": [
              "False"
            ]
          },
          "execution_count": 7,
          "metadata": {},
          "output_type": "execute_result"
        }
      ],
      "source": [
        "is_palindrome(\"racecar\")"
      ]
    },
    {
      "cell_type": "code",
      "execution_count": null,
      "id": "becb1e01-f279-46bb-9a74-23490d686b9e",
      "metadata": {
        "id": "becb1e01-f279-46bb-9a74-23490d686b9e",
        "outputId": "f04d2d77-18fe-43ca-92e1-86e545b4227b"
      },
      "outputs": [
        {
          "data": {
            "text/plain": [
              "False"
            ]
          },
          "execution_count": 8,
          "metadata": {},
          "output_type": "execute_result"
        }
      ],
      "source": [
        "is_palindrome(\"python\")"
      ]
    },
    {
      "cell_type": "code",
      "execution_count": null,
      "id": "d9645070-6b97-403a-b419-9937f102abbc",
      "metadata": {
        "id": "d9645070-6b97-403a-b419-9937f102abbc",
        "outputId": "599a5425-4c83-4b90-d590-610485addb25"
      },
      "outputs": [
        {
          "data": {
            "text/plain": [
              "False"
            ]
          },
          "execution_count": 9,
          "metadata": {},
          "output_type": "execute_result"
        }
      ],
      "source": [
        "is_palindrome(\"aibohphobia\")"
      ]
    },
    {
      "cell_type": "code",
      "execution_count": null,
      "id": "30e126ba-d87b-45f9-a582-63c4d73510bf",
      "metadata": {
        "id": "30e126ba-d87b-45f9-a582-63c4d73510bf",
        "outputId": "dee403cc-5083-4916-f762-7f926e115813"
      },
      "outputs": [
        {
          "name": "stdout",
          "output_type": "stream",
          "text": [
            "[\u001b[91mFAIL\u001b[00m] Incorrect output on input 'racecar'.\n"
          ]
        }
      ],
      "source": [
        "TP00.check_palindrome(is_palindrome)"
      ]
    },
    {
      "cell_type": "markdown",
      "id": "5e6054e8-2278-4855-8b4d-d078bfb3fe39",
      "metadata": {
        "id": "5e6054e8-2278-4855-8b4d-d078bfb3fe39"
      },
      "source": [
        "## A.3 - Array rotation (list manipulation)\n",
        "\n",
        "A left rotation operation on an array of size shifts each of the array's elements one unit to the left. Given an integer,\n",
        "`d`, rotate the array that many steps left and return the result.\n",
        "\n",
        "Example: `[1,2,3,4,5]`\n",
        "\n",
        "After `2` rotations,\n",
        "is `[3,4,5,1,2]`\n",
        ".\n",
        "\n",
        "Function Description\n",
        "\n",
        "Complete the `rotate_left` function with the following parameters:\n",
        "-  `arr`: a list of integers, the array to rotate\n",
        "-  `d`: integer, the amount to rotate by\n",
        "\n",
        "Return the rotated array.\n",
        "\n",
        "<u>Sample input 0</u>:\n",
        "`[1, 2, 3, 4, 5], 4`, return `[5,1,2,3,4]`."
      ]
    },
    {
      "cell_type": "code",
      "execution_count": null,
      "id": "defe1622-b833-4df9-af58-dfd8f0356893",
      "metadata": {
        "id": "defe1622-b833-4df9-af58-dfd8f0356893"
      },
      "outputs": [],
      "source": [
        "def rotate_left(arr : List[int], d : int) -> List[int]:\n",
        "    # TODO: your code here\n",
        "    return arr"
      ]
    },
    {
      "cell_type": "code",
      "execution_count": null,
      "id": "75d37d8e-7d50-4480-a27d-2c1c4d9ca15e",
      "metadata": {
        "id": "75d37d8e-7d50-4480-a27d-2c1c4d9ca15e",
        "outputId": "4a7db13c-d9c9-4d8b-eb04-75ccebac91ad"
      },
      "outputs": [
        {
          "data": {
            "text/plain": [
              "[1, 2, 3, 4, 5]"
            ]
          },
          "execution_count": 12,
          "metadata": {},
          "output_type": "execute_result"
        }
      ],
      "source": [
        "rotate_left([ 1,2,3,4,5], 4)"
      ]
    },
    {
      "cell_type": "code",
      "execution_count": null,
      "id": "3aa4d70b-3018-481f-a133-d0545a091fe2",
      "metadata": {
        "id": "3aa4d70b-3018-481f-a133-d0545a091fe2",
        "outputId": "699aec5c-bcf3-4872-d72b-972787d7a157"
      },
      "outputs": [
        {
          "name": "stdout",
          "output_type": "stream",
          "text": [
            "[\u001b[91mFAIL\u001b[00m] Incorrect output on input 'std'.\n"
          ]
        }
      ],
      "source": [
        "TP00.check_array_rotate(rotate_left)"
      ]
    },
    {
      "cell_type": "markdown",
      "id": "2fffd618-bded-4da6-a9f4-d4d5a8a01038",
      "metadata": {
        "id": "2fffd618-bded-4da6-a9f4-d4d5a8a01038"
      },
      "source": [
        "## A.4 - Fibonacci sequence (for loops)\n",
        "\n",
        "The Fibonacci sequence is the function $F : \\mathbb{N} \\to \\mathbb{N}$ satisfying\n",
        "$F(0) = 0$, $F(1) = 1$ and for all $n \\geq 2$, $F(n) = F(n-1) + F(n-2)$.\n",
        "\n",
        "Compute the nth Fibonacci number, $F(n)$."
      ]
    },
    {
      "cell_type": "code",
      "execution_count": null,
      "id": "20661c77-def1-4e46-b9a5-8b3d52ca6cbc",
      "metadata": {
        "id": "20661c77-def1-4e46-b9a5-8b3d52ca6cbc"
      },
      "outputs": [],
      "source": [
        "def fibonacci(n : int) -> int:\n",
        "    # TODO: your code here\n",
        "    return 0"
      ]
    },
    {
      "cell_type": "code",
      "execution_count": null,
      "id": "975ae0b4-779f-42f5-be24-504cdebebf5a",
      "metadata": {
        "id": "975ae0b4-779f-42f5-be24-504cdebebf5a",
        "outputId": "7d592b8f-3604-48ae-ba06-c6c724e34833"
      },
      "outputs": [
        {
          "data": {
            "text/plain": [
              "0"
            ]
          },
          "execution_count": 15,
          "metadata": {},
          "output_type": "execute_result"
        }
      ],
      "source": [
        "fibonacci(100)"
      ]
    },
    {
      "cell_type": "code",
      "execution_count": null,
      "id": "e8e32708-76bc-4340-ac0b-9758e4baee14",
      "metadata": {
        "id": "e8e32708-76bc-4340-ac0b-9758e4baee14",
        "outputId": "45256837-8348-4831-8d38-aaa2fa7145c1"
      },
      "outputs": [
        {
          "name": "stdout",
          "output_type": "stream",
          "text": [
            "[\u001b[91mFAIL\u001b[00m] Incorrect output on input '1'.\n"
          ]
        }
      ],
      "source": [
        "TP00.check_fibonacci(fibonacci)"
      ]
    },
    {
      "cell_type": "markdown",
      "id": "c531573d-39a4-403d-9c45-fd8e4321ab34",
      "metadata": {
        "id": "c531573d-39a4-403d-9c45-fd8e4321ab34"
      },
      "source": [
        "## A.4 - Triplet counting (for loops, hash/dict manipulation)\n",
        "\n",
        "**WARNING**: This section is algorithmically significantly more difficult.\n",
        "\n",
        "You are given an array and you need to find number of tripets of indices $(i,j,k)$ such that the elements at those indices are in geometric progression for a given common ratio $r$ and $i < j < k$.\n",
        "\n",
        "Example: `arr = [ 1, 4, 16, 64 ]` and `r=4`.\n",
        "\n",
        "There are `[1,4,16]` and `[4,16,64]` at indices `(0,1,2)` and `(1,2,3)`. Thus, return `2`.\n",
        "\n",
        "`count_triplets` has the following parameter(s):\n",
        "- `arr`: a list of integers\n",
        "- `r`: the common ratio, a positive integer\n",
        "\n",
        "It must return an integer, the number of triplets.\n",
        "\n",
        "<u>Sample Input 0</u>: `[1, 2, 2, 4], 2`, expected response: `2`\n",
        "\n",
        "There are 2\n",
        "triplets in satisfying our criteria, whose indices are `(0,1,3)` and `(0,2,3)`.\n",
        "\n",
        "<u>Sample Input 1</u>: `[1, 3, 9, 9, 27, 81], 3`, expected response: `6`\n",
        "\n",
        "The triplets satisfying are index\n",
        "`(0,1,2)`, `(0,1,3)` , `(1,2,4)` , `(1,3,4)`, `(2,4,5)` and `(3,4,5)`.\n",
        "\n",
        "<u>Sample Input 2</u>: `[1, 5, 5, 25, 125], 5`, expected response: `4`.\n",
        "\n",
        "The triplets satisfying are index\n",
        "`(0, 1, 3)`.\n",
        "`(0, 2, 3)`,\n",
        "`(1, 3, 4)` and\n",
        "`(2, 3, 4)`."
      ]
    },
    {
      "cell_type": "code",
      "execution_count": null,
      "id": "6d8cb96c-7278-4f10-8cd7-10abb9b190d0",
      "metadata": {
        "id": "6d8cb96c-7278-4f10-8cd7-10abb9b190d0"
      },
      "outputs": [],
      "source": [
        "def count_triplets(arr : List[int], r : int) -> int:\n",
        "    # TODO: you code here\n",
        "    return 0"
      ]
    },
    {
      "cell_type": "code",
      "execution_count": null,
      "id": "5d179ca4-7a41-492f-adb3-e4df02adfd9d",
      "metadata": {
        "id": "5d179ca4-7a41-492f-adb3-e4df02adfd9d",
        "outputId": "c7628d10-7976-44d0-9b51-80447e96bacb"
      },
      "outputs": [
        {
          "name": "stdout",
          "output_type": "stream",
          "text": [
            "0\n",
            "0\n",
            "0\n"
          ]
        }
      ],
      "source": [
        "print( count_triplets([1, 2, 2, 4 ], 2)) # should be 2\n",
        "print( count_triplets([1, 3, 9, 9, 27, 81], 3) ) # should be 6\n",
        "print( count_triplets([1, 5, 5, 25, 125], 5) ) # should be 4"
      ]
    },
    {
      "cell_type": "code",
      "execution_count": null,
      "id": "a32bb7fb-06a5-41d5-bd81-6d77ac6ce24d",
      "metadata": {
        "id": "a32bb7fb-06a5-41d5-bd81-6d77ac6ce24d",
        "outputId": "e9605288-a00c-4175-9bb9-de7618904ce7"
      },
      "outputs": [
        {
          "name": "stdout",
          "output_type": "stream",
          "text": [
            "0\n"
          ]
        }
      ],
      "source": [
        "print( count_triplets([1] * 100, 1) ) # should be 161700"
      ]
    },
    {
      "cell_type": "code",
      "execution_count": null,
      "id": "e972e9a0-ee48-45eb-8811-83b6c2beb95e",
      "metadata": {
        "id": "e972e9a0-ee48-45eb-8811-83b6c2beb95e",
        "outputId": "cbec9af5-4803-432a-cd23-2476a71cfb37"
      },
      "outputs": [
        {
          "name": "stdout",
          "output_type": "stream",
          "text": [
            "[\u001b[91mFAIL\u001b[00m] Incorrect output on input '1, 2, 2, 4 - 2'.\n"
          ]
        }
      ],
      "source": [
        "TP00.check_triplets(count_triplets)"
      ]
    },
    {
      "cell_type": "code",
      "execution_count": null,
      "id": "9cbf2f0d-f922-4a78-9fc0-a16efd0873dd",
      "metadata": {
        "id": "9cbf2f0d-f922-4a78-9fc0-a16efd0873dd",
        "outputId": "363fc4c0-ff77-48ae-92d1-2688070c2d57"
      },
      "outputs": [
        {
          "name": "stdout",
          "output_type": "stream",
          "text": [
            "[\u001b[91mFAIL\u001b[00m] Incorrect output on input 'really-long-array'.\n"
          ]
        }
      ],
      "source": [
        "TP00.check_triplets_harder(count_triplets)"
      ]
    },
    {
      "cell_type": "markdown",
      "id": "980d1106-9b8b-4fac-935e-ddacf8f98eac",
      "metadata": {
        "id": "980d1106-9b8b-4fac-935e-ddacf8f98eac"
      },
      "source": [
        "# Part B - Numpy arrays, broadcasts\n",
        "\n",
        "Use standard numpy indexing, such as `arr[0]`, `arr[0, :]` and `arr[:, None]` to access arrays in different ways.\n",
        "Use standard operations on arrays such as `a + b`, `a * b` for computations, and boolean operations `~a` (negation)\n",
        "`a | b` (or operation) `a & b` (and operation), don't forget about array shapes when doing this. Indexing can be done with a boolean array `b` to select subsets with `a[b]` or with a list/array of integers for `b`.\n",
        "\n",
        "Use assertions abundantly"
      ]
    },
    {
      "cell_type": "code",
      "execution_count": null,
      "id": "8d951ada-90a8-4198-bd3e-d189b0acd12f",
      "metadata": {
        "id": "8d951ada-90a8-4198-bd3e-d189b0acd12f",
        "outputId": "b0e300f1-b64a-4a0c-f57b-ee1c25406ece"
      },
      "outputs": [
        {
          "data": {
            "text/plain": [
              "(100,)"
            ]
          },
          "execution_count": 22,
          "metadata": {},
          "output_type": "execute_result"
        }
      ],
      "source": [
        "import numpy as np\n",
        "a = np.arange(100)\n",
        "a.shape"
      ]
    },
    {
      "cell_type": "code",
      "execution_count": null,
      "id": "61713750-aab4-473a-8941-b7f9b31d8d43",
      "metadata": {
        "id": "61713750-aab4-473a-8941-b7f9b31d8d43"
      },
      "outputs": [],
      "source": [
        "assert a.shape == (100,)\n",
        "\n",
        "b = a[None, :]\n",
        "assert b.shape == (1, 100)\n",
        "\n",
        "assert a[0:10].shape == (10,)\n",
        "\n",
        "assert a[-2:].shape == (2,)"
      ]
    },
    {
      "cell_type": "code",
      "execution_count": null,
      "id": "9511a5b3-930c-49cf-b9e8-8b9b13887f56",
      "metadata": {
        "id": "9511a5b3-930c-49cf-b9e8-8b9b13887f56",
        "outputId": "ad092db1-7e5f-431f-fd6d-e66fe83ec63e"
      },
      "outputs": [
        {
          "data": {
            "text/plain": [
              "array([ True, False,  True, False,  True])"
            ]
          },
          "execution_count": 24,
          "metadata": {},
          "output_type": "execute_result"
        }
      ],
      "source": [
        "u = np.random.choice([ False, True ], size=5)\n",
        "u"
      ]
    },
    {
      "cell_type": "code",
      "execution_count": null,
      "id": "df126d6d-41b2-43da-a203-1728275c8d27",
      "metadata": {
        "id": "df126d6d-41b2-43da-a203-1728275c8d27",
        "outputId": "82629790-59bc-4b71-e7d6-30e6a12389fe"
      },
      "outputs": [
        {
          "data": {
            "text/plain": [
              "(array([False, False, False, False, False]),\n",
              " array([ True,  True,  True,  True,  True]))"
            ]
          },
          "execution_count": 25,
          "metadata": {},
          "output_type": "execute_result"
        }
      ],
      "source": [
        "u & (~ u), u | (~u)"
      ]
    },
    {
      "cell_type": "code",
      "execution_count": null,
      "id": "72f1711b-9453-422f-9de8-36d6ffb6d584",
      "metadata": {
        "id": "72f1711b-9453-422f-9de8-36d6ffb6d584",
        "outputId": "03d07463-7085-4802-930e-0f9b4d99553f"
      },
      "outputs": [
        {
          "data": {
            "text/plain": [
              "array([0, 2, 4])"
            ]
          },
          "execution_count": 26,
          "metadata": {},
          "output_type": "execute_result"
        }
      ],
      "source": [
        "c = a[:5]\n",
        "assert c.shape == u.shape\n",
        "c[u]"
      ]
    },
    {
      "cell_type": "markdown",
      "id": "afc3940f-a14f-4028-a917-46932fc13198",
      "metadata": {
        "id": "afc3940f-a14f-4028-a917-46932fc13198"
      },
      "source": [
        "## B.1 - Slicing, simple broadcasts\n",
        "\n",
        "\n",
        "### B.1.1 - Band sum\n",
        "\n",
        "Count number of elements in array between two values `a` and `b` included.\n",
        "`band_sum([0,1,2,3,4,5,6], 0, 2)` is `sum([ 0, 1, 2 ])` thus `3`."
      ]
    },
    {
      "cell_type": "code",
      "execution_count": null,
      "id": "09f0961c-d2c7-465d-86fb-f33861d204d9",
      "metadata": {
        "id": "09f0961c-d2c7-465d-86fb-f33861d204d9"
      },
      "outputs": [],
      "source": [
        "def band_sum(arr : np.ndarray, a : int, b : int) -> int:\n",
        "    # TODO: your code here\n",
        "    return 0"
      ]
    },
    {
      "cell_type": "code",
      "execution_count": null,
      "id": "4b00e8eb-a4c7-40ef-99f7-6ef4b63793c5",
      "metadata": {
        "id": "4b00e8eb-a4c7-40ef-99f7-6ef4b63793c5",
        "outputId": "ef9d07bb-af45-4f30-e71d-7f32cb15e593"
      },
      "outputs": [
        {
          "data": {
            "text/plain": [
              "0"
            ]
          },
          "execution_count": 28,
          "metadata": {},
          "output_type": "execute_result"
        }
      ],
      "source": [
        "band_sum(np.array([0,1,2,3,4,5,6]), 0, 2)"
      ]
    },
    {
      "cell_type": "code",
      "execution_count": null,
      "id": "40a441a4-bdc5-4bc2-b404-053a6bf8c348",
      "metadata": {
        "id": "40a441a4-bdc5-4bc2-b404-053a6bf8c348",
        "outputId": "83880e37-d9f0-41fe-d96d-303d8167e1a3"
      },
      "outputs": [
        {
          "name": "stdout",
          "output_type": "stream",
          "text": [
            "[\u001b[91mFAIL\u001b[00m] Incorrect output on input 'short'.\n"
          ]
        }
      ],
      "source": [
        "TP00.check_band_sum(band_sum)"
      ]
    },
    {
      "cell_type": "markdown",
      "id": "18b05acd-d12f-4636-b9e0-6ac4c4352711",
      "metadata": {
        "id": "18b05acd-d12f-4636-b9e0-6ac4c4352711"
      },
      "source": [
        "### B.1.2 - Multiple sum\n",
        "\n",
        "Sum all multiples of three or five below $n$"
      ]
    },
    {
      "cell_type": "code",
      "execution_count": null,
      "id": "3558ad46-3a79-4d35-9e37-8cb96d9aae2d",
      "metadata": {
        "id": "3558ad46-3a79-4d35-9e37-8cb96d9aae2d"
      },
      "outputs": [],
      "source": [
        "def multiple_sum(n : int) -> int:\n",
        "    # TODO: your code here\n",
        "    return 0"
      ]
    },
    {
      "cell_type": "code",
      "execution_count": null,
      "id": "06afc91c-ac4f-4404-bdbd-8a4eb5b34cc0",
      "metadata": {
        "id": "06afc91c-ac4f-4404-bdbd-8a4eb5b34cc0",
        "outputId": "417cdc4f-dd9c-42ab-e1d4-eee0f4ebf878"
      },
      "outputs": [
        {
          "name": "stdout",
          "output_type": "stream",
          "text": [
            "0\n",
            "0\n"
          ]
        }
      ],
      "source": [
        "print(multiple_sum(10)) # should be 23 = 3 + 5 + 6 + 9\n",
        "print(multiple_sum(100)) # should be 2318"
      ]
    },
    {
      "cell_type": "code",
      "execution_count": null,
      "id": "b1a22bb9-2e55-4267-b4a8-46ca60c5a4c4",
      "metadata": {
        "id": "b1a22bb9-2e55-4267-b4a8-46ca60c5a4c4",
        "outputId": "aa3eaa94-7a88-4e55-e971-a186d96d833e"
      },
      "outputs": [
        {
          "name": "stdout",
          "output_type": "stream",
          "text": [
            "[\u001b[91mFAIL\u001b[00m] Incorrect output on input '100'.\n"
          ]
        }
      ],
      "source": [
        "TP00.check_multiple_sum(multiple_sum)"
      ]
    },
    {
      "cell_type": "markdown",
      "id": "b2eb136c-466d-4908-886a-9ea52ea93c2c",
      "metadata": {
        "id": "b2eb136c-466d-4908-886a-9ea52ea93c2c"
      },
      "source": [
        "### B.1.3. Array sorting\n",
        "\n",
        "Sort an array by the nth column"
      ]
    },
    {
      "cell_type": "code",
      "execution_count": null,
      "id": "ac3b4390-fbfc-4fba-a156-83c2dff0ab4f",
      "metadata": {
        "id": "ac3b4390-fbfc-4fba-a156-83c2dff0ab4f"
      },
      "outputs": [],
      "source": [
        "def sort_by(nums : np.ndarray, n = 1) -> np.ndarray:\n",
        "    # TODO: your code here\n",
        "    return nums"
      ]
    },
    {
      "cell_type": "code",
      "execution_count": null,
      "id": "4dd69a11-12fb-4efa-8bd9-027852067342",
      "metadata": {
        "id": "4dd69a11-12fb-4efa-8bd9-027852067342",
        "outputId": "7de56f73-c955-4c5b-93b9-4aa288cf0870"
      },
      "outputs": [
        {
          "name": "stdout",
          "output_type": "stream",
          "text": [
            "Original array:\n",
            "\n",
            "[[1 0 6 4 5 9 2 6]\n",
            " [6 6 2 3 5 6 7 2]\n",
            " [3 1 7 5 6 0 3 6]]\n",
            "\n",
            "Sort the array by the second column: \n",
            "[[1 0 6 4 5 9 2 6]\n",
            " [6 6 2 3 5 6 7 2]\n",
            " [3 1 7 5 6 0 3 6]]\n"
          ]
        }
      ],
      "source": [
        "print(\"Original array:\\n\")\n",
        "nums = np.random.randint(0, 10, (3, 8))\n",
        "print(nums)\n",
        "print(\"\\nSort the array by the second column: \")\n",
        "print(sort_by(nums, 1))"
      ]
    },
    {
      "cell_type": "code",
      "execution_count": null,
      "id": "0de08c14-80fe-4dc9-948b-0b90d8f15b1e",
      "metadata": {
        "id": "0de08c14-80fe-4dc9-948b-0b90d8f15b1e",
        "outputId": "ff22cf22-553c-4861-d288-01e312ccdee8"
      },
      "outputs": [
        {
          "name": "stdout",
          "output_type": "stream",
          "text": [
            "[\u001b[91mFAIL\u001b[00m] Incorrect output on input '(3,10) - 2'.\n"
          ]
        }
      ],
      "source": [
        "TP00.check_sort_by(sort_by)"
      ]
    },
    {
      "cell_type": "markdown",
      "id": "63d7443a-f242-47b4-bbe6-77da7277023c",
      "metadata": {
        "id": "63d7443a-f242-47b4-bbe6-77da7277023c"
      },
      "source": [
        "## B.2 -  Computing means along dimensions\n",
        "\n",
        "The geometric mean of a set $\\{a_1, \\ldots, a_n \\}$ of positive numbers is the quantity $$\\left( \\prod_{i=1}^{n} a_i \\right)^{\\frac{1}{n}}$$\n",
        "Compute the geometric mean of the array along the indicated dimension. Precision is only auto-checked up to four decimals."
      ]
    },
    {
      "cell_type": "code",
      "execution_count": null,
      "id": "d784eb9a-cf76-490e-98a4-1180bb09a3b8",
      "metadata": {
        "id": "d784eb9a-cf76-490e-98a4-1180bb09a3b8"
      },
      "outputs": [],
      "source": [
        "def geometric_mean(arr : np.ndarray, axis : int) -> float | np.ndarray:\n",
        "    # TODO: your code here\n",
        "    return 0"
      ]
    },
    {
      "cell_type": "code",
      "execution_count": null,
      "id": "5a41bcc2-2367-4adf-9d25-07472277bf9b",
      "metadata": {
        "id": "5a41bcc2-2367-4adf-9d25-07472277bf9b",
        "outputId": "2a30352a-54ba-4ff0-cbb8-ca0e59bbcea7"
      },
      "outputs": [
        {
          "name": "stdout",
          "output_type": "stream",
          "text": [
            "[\u001b[91mFAIL\u001b[00m] Incorrect output on input '10'.\n"
          ]
        }
      ],
      "source": [
        "TP00.check_geometric_mean(geometric_mean)"
      ]
    },
    {
      "cell_type": "markdown",
      "id": "8785be78-4e71-4dc1-b413-da2559d1f4df",
      "metadata": {
        "id": "8785be78-4e71-4dc1-b413-da2559d1f4df"
      },
      "source": [
        "The harmonic mean of a set $\\{ a_1, \\ldots, a_n \\}$ of positive numbers is the quantity\n",
        "$$ \\frac{n}{\\sum_{i=1}^{n} \\frac{1}{a_i} } $$\n",
        "Compute the harmonic mean of the array along the indicated dimension."
      ]
    },
    {
      "cell_type": "code",
      "execution_count": null,
      "id": "3b32da3d-0c89-43cf-be65-f723ba047a49",
      "metadata": {
        "id": "3b32da3d-0c89-43cf-be65-f723ba047a49"
      },
      "outputs": [],
      "source": [
        "def harmonic_mean(arr : np.ndarray, axis : int) -> float | np.ndarray:\n",
        "    # TODO: your code here\n",
        "    return 0"
      ]
    },
    {
      "cell_type": "code",
      "execution_count": null,
      "id": "8a7223d8-44d8-48a4-a89f-7b549064df9e",
      "metadata": {
        "id": "8a7223d8-44d8-48a4-a89f-7b549064df9e",
        "outputId": "f9c417c0-240d-40ec-9b46-8853bdcf900e"
      },
      "outputs": [
        {
          "name": "stdout",
          "output_type": "stream",
          "text": [
            "[\u001b[91mFAIL\u001b[00m] Incorrect output on input '10'.\n"
          ]
        }
      ],
      "source": [
        "TP00.check_harmonic_mean(harmonic_mean)"
      ]
    },
    {
      "cell_type": "markdown",
      "id": "6f73efe3-e2d0-4c3d-bf0f-020ad37345d9",
      "metadata": {
        "id": "6f73efe3-e2d0-4c3d-bf0f-020ad37345d9"
      },
      "source": [
        "## B.3 - Advanced broadcasting\n",
        "\n",
        "### B.3.1 - Implementation of k-means algorithm\n",
        "\n",
        "The k-means clustering algorithm takes an input matrix $X \\in \\mathbb{R}^{n \\times d}$ representing $n \\in \\mathbb{N}$ samples points in $\\mathbb{R}^d$. It computes a set of $k \\in \\mathbb{N}$ points, called centroids, representing clusters of the initial data,\n",
        "summarized as a matrix $Z \\in \\mathbb{R}^{k \\times d}$.\n",
        "\n",
        "The initial centroids are taken at random.\n",
        "Then, at every iteration, the closest centroid to each point is evaluated to $I : [n] \\to [k]$\n",
        "$$ \\forall m \\in [n], \\, \\forall j \\in [k], \\quad  \\lVert z_{I(m)} - x_m \\rVert_2 \\leq \\lVert z_j - x_m \\rVert_2 $$\n",
        "The centroids are then updated to the mean of such points\n",
        "$$ \\forall j \\in [k], \\quad z_j \\leftarrow \\frac{ \\sum_{i = 1}^{n} x_i \\cdot 1_{I(i) = j} }{ \\sum_{i=1}^{n} 1_{I(i) = j} } $$\n",
        "\n",
        "Repeat for a number $T \\in \\mathbb{N}$ of iterations."
      ]
    },
    {
      "cell_type": "code",
      "execution_count": null,
      "id": "7a6c4ec2-03b1-44b7-a923-04a1ae0de37a",
      "metadata": {
        "id": "7a6c4ec2-03b1-44b7-a923-04a1ae0de37a"
      },
      "outputs": [],
      "source": [
        "q = 25\n",
        "centers = [ (0,0), (-3, 6), (5, 5) ]\n",
        "\n",
        "mu = np.array([ [mu] * q for mu in centers ]).reshape(-1, 2)\n",
        "x = np.random.normal(size=(len(centers) * q, 2)) + mu"
      ]
    },
    {
      "cell_type": "code",
      "execution_count": null,
      "id": "ce85b84a-ba70-43ef-bacb-30efa67d6723",
      "metadata": {
        "id": "ce85b84a-ba70-43ef-bacb-30efa67d6723",
        "outputId": "60fa2524-2d41-45d9-d43f-889404883814"
      },
      "outputs": [
        {
          "data": {
            "image/png": "[encoded data removed]",
            "text/plain": [
              "<Figure size 640x480 with 1 Axes>"
            ]
          },
          "metadata": {},
          "output_type": "display_data"
        }
      ],
      "source": [
        "import matplotlib.pyplot as plt\n",
        "plt.scatter(x[:,0], x[:,1], label='data points')\n",
        "plt.scatter(*zip(*centers), color='darkorange', label='centers')\n",
        "plt.grid(alpha=.5)\n",
        "plt.legend()\n",
        "plt.show()"
      ]
    },
    {
      "cell_type": "markdown",
      "id": "d912ef32-45ed-40ce-b9c8-558f132002ca",
      "metadata": {
        "id": "d912ef32-45ed-40ce-b9c8-558f132002ca"
      },
      "source": [
        "Implement the k-means algorithm. Run it with `k = 3` for `T = 10_000` iterations. Compare the position of your centroids and the centers above."
      ]
    },
    {
      "cell_type": "code",
      "execution_count": null,
      "id": "d6c694b5-1b1a-4966-a6a1-b834465c1967",
      "metadata": {
        "id": "d6c694b5-1b1a-4966-a6a1-b834465c1967"
      },
      "outputs": [],
      "source": [
        "def kmeans(x : np.ndarray, k : int, T : int = 10_000) -> np.ndarray:\n",
        "    # TODO: your code here\n",
        "    n, d = x.shape\n",
        "    return np.zeros((k,d))"
      ]
    },
    {
      "cell_type": "code",
      "execution_count": null,
      "id": "81170387-a239-47c7-a725-9e380e1c9abd",
      "metadata": {
        "id": "81170387-a239-47c7-a725-9e380e1c9abd"
      },
      "outputs": [],
      "source": [
        "z = kmeans(x, k=3)"
      ]
    },
    {
      "cell_type": "code",
      "execution_count": null,
      "id": "6397b0fb-67c4-44cc-9ac2-09d2aa223021",
      "metadata": {
        "id": "6397b0fb-67c4-44cc-9ac2-09d2aa223021",
        "outputId": "84075999-f20c-48c2-8149-cbe505ad4c8d"
      },
      "outputs": [
        {
          "data": {
            "image/png": "[encoded data removed]",
            "text/plain": [
              "<Figure size 640x480 with 1 Axes>"
            ]
          },
          "metadata": {},
          "output_type": "display_data"
        }
      ],
      "source": [
        "plt.scatter(x[:,0], x[:,1], label='data points')\n",
        "plt.scatter(*zip(*centers), color='darkorange', label='centers')\n",
        "plt.scatter(z[:,0], z[:,1], color='red', label='centroids')\n",
        "plt.grid(alpha=.5)\n",
        "plt.legend()\n",
        "plt.show()"
      ]
    },
    {
      "cell_type": "code",
      "execution_count": null,
      "id": "197767a9-ffaf-4705-9a20-32c2ebc86f50",
      "metadata": {
        "id": "197767a9-ffaf-4705-9a20-32c2ebc86f50",
        "outputId": "b5894742-458a-4bce-bd5c-fc850c517d57"
      },
      "outputs": [
        {
          "name": "stdout",
          "output_type": "stream",
          "text": [
            "[\u001b[91mFAIL\u001b[00m] Testcase 'trivial (50,2)': Incorrect centroids computed\n",
            "[\u001b[91mFAIL\u001b[00m] Testcase 'easy (80,5)': Incorrect centroids computed\n",
            "[\u001b[91mFAIL\u001b[00m] Testcase 'easy (500,10)': Incorrect centroids computed\n",
            "[\u001b[91mFAIL\u001b[00m] Testcase 'medium (500,10)': Incorrect centroids computed\n",
            "[\u001b[91mFAIL\u001b[00m] Testcase 'hard (500,10)': Incorrect centroids computed\n",
            "[\u001b[91mFAIL\u001b[00m] Testcase 'hardest (5000,20)': Incorrect centroids computed\n",
            "[\u001b[91mFAIL\u001b[00m] Some test cases failed\n"
          ]
        }
      ],
      "source": [
        "TP00.check_centroid_computation(kmeans)"
      ]
    },
    {
      "cell_type": "markdown",
      "id": "312f2063-273e-4a16-ad5a-3e684f3d309f",
      "metadata": {
        "id": "312f2063-273e-4a16-ad5a-3e684f3d309f"
      },
      "source": [
        "### B.3.2 - Vectorized Statistical Tests\n",
        "\n",
        "Consider the following example from Wikipedia's chi-square test page.\n",
        "In each region (A, B, C, D) corresponding to $k = 4$ categories,\n",
        "we observe the occupations of inhabitants, classified into $g=3$ groups.\n",
        "We wish to determine if the proportion of inhabitants having a particular\n",
        "occupation is independent from the region in which they live."
      ]
    },
    {
      "cell_type": "markdown",
      "id": "f8e485a7-dcfd-424f-8800-ff2879c9df96",
      "metadata": {
        "id": "f8e485a7-dcfd-424f-8800-ff2879c9df96"
      },
      "source": [
        "| \t            | A \t| B \t| C \t| D \t| **Total** |\n",
        "|---------------|:-----:|:-----:|:-----:|:-----:|:-----:|\n",
        "|White collar \t| 90 \t| 60 \t| 104 \t| 95 \t| 349   |\n",
        "|Blue collar \t| 30 \t| 50 \t| 51 \t| 20 \t| 151   |\n",
        "|No collar \t    | 30 \t| 40 \t| 45 \t| 35 \t| 150   |\n",
        "|**Total**      | 150 \t| 150 \t| 200 \t| 150 \t| 650   |"
      ]
    },
    {
      "cell_type": "markdown",
      "id": "b1225d03-b631-4e6f-92d0-f8d98539a4da",
      "metadata": {
        "id": "b1225d03-b631-4e6f-92d0-f8d98539a4da"
      },
      "source": [
        "In this table $X \\in \\mathbb{R}^{g \\times k}$ of $g \\in \\mathbb{N}$ groups affect to $k \\in \\mathbb{N}$ categories,\n",
        "the expected entry under independence would be\n",
        "$$ H_{i,j} = \\left(\\sum_u X_{u,j} \\right) \\cdot \\frac{\\sum_v X_{i,v}}{\\sum_{u,v} X_{u,v}}$$\n",
        "For instance $H_{0,0} = 150 \\times \\frac{349}{650} \\approx 80.54$.\n",
        "Indeed under independence, the proportion of group $0$ (\"White collar\") should be $p_0 = \\frac{349}{650}$, as measured using\n",
        "all samples independently of category. Thus,\n",
        "if there are 150 samples in category 0,\n",
        "the expected number of samples in group 0 category 0 is $H_{0,0} = 150 \\times p_0$\n",
        "\n",
        "\n",
        "The test quantity is $$ T =  \\sum_{j \\in [g]} \\sum_{i \\in [k]} \\frac{\\left( X_{i,j} - H_{i,j} \\right)^2}{H_{i,j}} $$\n",
        "\n",
        "The chi-squared test with $d = (g-1) \\times (k-1)$ degrees of freedom corresponds to rejecting independence iff\n",
        "$$\n",
        "\\mathbb{P}_{Z \\sim \\chi^2_d} \\left( Z \\geq T \\right) \\leq \\alpha\n",
        "$$\n",
        "The cumulative distribution function with $d$ degrees of freedom $h(V) = \\mathbb{P}_{Z \\sim \\chi^2_d} \\left( Z \\leq V \\right)$ can be evaluated with\n",
        "`h = scipy.stats.chi2.cdf(x=V, df=d)`."
      ]
    },
    {
      "cell_type": "code",
      "execution_count": null,
      "id": "0c84ca06-d1e1-4b19-8a71-cafef93b3edc",
      "metadata": {
        "id": "0c84ca06-d1e1-4b19-8a71-cafef93b3edc"
      },
      "outputs": [],
      "source": [
        "X = np.array([ [ 90, 60, 104, 95 ], [ 30, 50, 51, 20 ], [ 30, 40, 45, 35 ] ])"
      ]
    },
    {
      "cell_type": "markdown",
      "id": "cbd0dc51-637b-47ec-be23-aef602062b18",
      "metadata": {
        "id": "cbd0dc51-637b-47ec-be23-aef602062b18"
      },
      "source": [
        "Perform the chi-squared independence test on table `X`. Return 1 if the test with confidence ($\\alpha$ = 5%)\n",
        "confirms that the proportions are independent of category, and return 0 otherwise."
      ]
    },
    {
      "cell_type": "code",
      "execution_count": null,
      "id": "b7092966-610f-4082-a019-4182cbe6eb7e",
      "metadata": {
        "id": "b7092966-610f-4082-a019-4182cbe6eb7e"
      },
      "outputs": [],
      "source": [
        "import scipy.stats\n",
        "\n",
        "def chi_squared(x : np.ndarray, alpha=0.05) -> int:\n",
        "    # TODO: your code here\n",
        "    return 0"
      ]
    },
    {
      "cell_type": "code",
      "execution_count": null,
      "id": "b8c6ae39-ad54-4aaf-9b83-8b00d7ebeaa2",
      "metadata": {
        "id": "b8c6ae39-ad54-4aaf-9b83-8b00d7ebeaa2",
        "outputId": "00c5222c-32a2-4d6f-eb35-c86736de4894"
      },
      "outputs": [
        {
          "data": {
            "text/plain": [
              "0"
            ]
          },
          "execution_count": 48,
          "metadata": {},
          "output_type": "execute_result"
        }
      ],
      "source": [
        "chi_squared(X)"
      ]
    },
    {
      "cell_type": "code",
      "execution_count": null,
      "id": "13107341-fec1-4750-bec9-b333665a2f71",
      "metadata": {
        "id": "13107341-fec1-4750-bec9-b333665a2f71",
        "outputId": "a680cb0c-cb65-424c-f66d-42ac70e79e03"
      },
      "outputs": [
        {
          "name": "stdout",
          "output_type": "stream",
          "text": [
            "[\u001b[91mFAIL\u001b[00m] Incorrect output on input 'easy yes (10,10)'.\n"
          ]
        }
      ],
      "source": [
        "TP00.check_chi_squared(chi_squared)"
      ]
    },
    {
      "cell_type": "markdown",
      "id": "5e1a5bc8-6d5b-447e-92d7-aaada1ef3cc3",
      "metadata": {
        "id": "5e1a5bc8-6d5b-447e-92d7-aaada1ef3cc3"
      },
      "source": [
        "Write a function which takes $q \\in \\mathbb{N}$ tables of size $g \\times k$, as a tensor $X \\in \\mathbb{R}^{q \\times g \\times k}$,\n",
        "and returns the result of all chi-squared tests at once $Y \\in \\{0,1\\}^{q}$."
      ]
    },
    {
      "cell_type": "code",
      "execution_count": null,
      "id": "fb1ea1e7-0bc8-4e0c-9d9a-ab8f11e6d00a",
      "metadata": {
        "id": "fb1ea1e7-0bc8-4e0c-9d9a-ab8f11e6d00a"
      },
      "outputs": [],
      "source": [
        "def vectorized_chi_squared(x : np.ndarray, alpha=0.05) -> np.ndarray:\n",
        "    # TODO: your code here\n",
        "    return np.zeros((x.shape[0], ))"
      ]
    },
    {
      "cell_type": "code",
      "execution_count": null,
      "id": "00e91b9b-e48d-44b5-bfbd-323a7141dd19",
      "metadata": {
        "id": "00e91b9b-e48d-44b5-bfbd-323a7141dd19",
        "outputId": "04036c77-adf6-44f7-e40f-5bce76bee1a6"
      },
      "outputs": [
        {
          "name": "stdout",
          "output_type": "stream",
          "text": [
            "(3, 4) (1, 3, 4)\n"
          ]
        },
        {
          "data": {
            "text/plain": [
              "array([0.])"
            ]
          },
          "execution_count": 51,
          "metadata": {},
          "output_type": "execute_result"
        }
      ],
      "source": [
        "print(X.shape, X[None,:,:].shape)\n",
        "vectorized_chi_squared(X[None,:,:])"
      ]
    },
    {
      "cell_type": "code",
      "execution_count": null,
      "id": "4f39c2c7-3031-4bfe-ab3d-6812818937ba",
      "metadata": {
        "id": "4f39c2c7-3031-4bfe-ab3d-6812818937ba",
        "outputId": "9ef357d7-a6d1-4ada-a52a-f6190fb31ec2"
      },
      "outputs": [
        {
          "name": "stdout",
          "output_type": "stream",
          "text": [
            "[\u001b[91mFAIL\u001b[00m] Testcase 'easy (500,10,10)': Incorrect answer computed\n",
            "[\u001b[91mFAIL\u001b[00m] Testcase 'easy (500,50,100)': Incorrect answer computed\n",
            "[\u001b[91mFAIL\u001b[00m] Testcase 'easy (5000,10,10)': Incorrect answer computed\n",
            "[\u001b[91mFAIL\u001b[00m] Testcase 'easy (50,50,50)': Incorrect answer computed\n",
            "[\u001b[91mFAIL\u001b[00m] Testcase 'easy (100,100,100)': Incorrect answer computed\n",
            "[\u001b[91mFAIL\u001b[00m] Testcase 'easy (100,500,500)': Incorrect answer computed\n",
            "[\u001b[91mFAIL\u001b[00m] Testcase 'easy (500,500,500)': Incorrect answer computed\n",
            "[\u001b[91mFAIL\u001b[00m] Testcase 'easy (1000,500,500)': Incorrect answer computed\n",
            "[\u001b[91mFAIL\u001b[00m] Some test cases failed\n"
          ]
        }
      ],
      "source": [
        "TP00.check_vectorized_chi_squared(vectorized_chi_squared)"
      ]
    },
    {
      "cell_type": "markdown",
      "id": "f549a739-d545-4127-adf6-e3de8a89983a",
      "metadata": {
        "id": "f549a739-d545-4127-adf6-e3de8a89983a"
      },
      "source": [
        "---"
      ]
    }
  ],
  "metadata": {
    "kernelspec": {
      "display_name": "Python 3 (ipykernel)",
      "language": "python",
      "name": "python3"
    },
    "language_info": {
      "codemirror_mode": {
        "name": "ipython",
        "version": 3
      },
      "file_extension": ".py",
      "mimetype": "text/x-python",
      "name": "python",
      "nbconvert_exporter": "python",
      "pygments_lexer": "ipython3",
      "version": "3.10.12"
    },
    "colab": {
      "provenance": [],
      "include_colab_link": true
    }
  },
  "nbformat": 4,
  "nbformat_minor": 5
}