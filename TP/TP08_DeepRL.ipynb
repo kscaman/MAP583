{
  "cells": [
    {
      "cell_type": "markdown",
      "metadata": {
        "id": "view-in-github",
        "colab_type": "text"
      },
      "source": [
        "<a href=\"https://colab.research.google.com/github/kscaman/MAP583/blob/main/TP/TP08_DeepRL.ipynb\" target=\"_parent\"><img src=\"https://colab.research.google.com/assets/colab-badge.svg\" alt=\"Open In Colab\"/></a>"
      ]
    },
    {
      "cell_type": "markdown",
      "metadata": {
        "id": "oJiauBGr6hUG"
      },
      "source": [
        "# TP08 - Playing Atari games with deep reinforcement learning\n",
        "\n",
        "In this practical, our objective is to replicate the famous [Deepmind paper on DQN](https://deepmind.google/discover/blog/deep-reinforcement-learning/) and train, using deep Q learning, an agent to play the Atari game [Breakout](https://www.gymlibrary.dev/environments/atari/breakout/)\n",
        "The code is adapted from the following [Github repo](https://github.com/jacobaustin123/pytorch-dqn/) and the [Pytorch tutorial on DQL](https://pytorch.org/tutorials/intermediate/reinforcement_q_learning.html).\n"
      ]
    },
    {
      "cell_type": "code",
      "execution_count": null,
      "metadata": {
        "id": "gSDfGk7DmOE5",
        "collapsed": true,
        "colab": {
          "base_uri": "https://localhost:8080/"
        },
        "outputId": "10b5e382-9769-40cb-a393-79e067cc7fa7"
      },
      "outputs": [
        {
          "output_type": "stream",
          "name": "stdout",
          "text": [
            "Requirement already satisfied: gymnasium[atari] in /usr/local/lib/python3.11/dist-packages (1.1.0)\n",
            "Requirement already satisfied: numpy>=1.21.0 in /usr/local/lib/python3.11/dist-packages (from gymnasium[atari]) (1.26.4)\n",
            "Requirement already satisfied: cloudpickle>=1.2.0 in /usr/local/lib/python3.11/dist-packages (from gymnasium[atari]) (3.1.1)\n",
            "Requirement already satisfied: typing-extensions>=4.3.0 in /usr/local/lib/python3.11/dist-packages (from gymnasium[atari]) (4.12.2)\n",
            "Requirement already satisfied: farama-notifications>=0.0.1 in /usr/local/lib/python3.11/dist-packages (from gymnasium[atari]) (0.0.4)\n",
            "Requirement already satisfied: ale_py>=0.9 in /usr/local/lib/python3.11/dist-packages (from gymnasium[atari]) (0.10.2)\n",
            "Collecting autorom[accept-rom-license]\n",
            "  Downloading AutoROM-0.6.1-py3-none-any.whl.metadata (2.4 kB)\n",
            "Requirement already satisfied: click in /usr/local/lib/python3.11/dist-packages (from autorom[accept-rom-license]) (8.1.8)\n",
            "Requirement already satisfied: requests in /usr/local/lib/python3.11/dist-packages (from autorom[accept-rom-license]) (2.32.3)\n",
            "Collecting AutoROM.accept-rom-license (from autorom[accept-rom-license])\n",
            "  Downloading AutoROM.accept-rom-license-0.6.1.tar.gz (434 kB)\n",
            "\u001b[2K     \u001b[90m━━━━━━━━━━━━━━━━━━━━━━━━━━━━━━━━━━━━━━━━\u001b[0m \u001b[32m434.7/434.7 kB\u001b[0m \u001b[31m31.4 MB/s\u001b[0m eta \u001b[36m0:00:00\u001b[0m\n",
            "\u001b[?25h  Installing build dependencies ... \u001b[?25l\u001b[?25hdone\n",
            "  Getting requirements to build wheel ... \u001b[?25l\u001b[?25hdone\n",
            "  Preparing metadata (pyproject.toml) ... \u001b[?25l\u001b[?25hdone\n",
            "Requirement already satisfied: charset-normalizer<4,>=2 in /usr/local/lib/python3.11/dist-packages (from requests->autorom[accept-rom-license]) (3.4.1)\n",
            "Requirement already satisfied: idna<4,>=2.5 in /usr/local/lib/python3.11/dist-packages (from requests->autorom[accept-rom-license]) (3.10)\n",
            "Requirement already satisfied: urllib3<3,>=1.21.1 in /usr/local/lib/python3.11/dist-packages (from requests->autorom[accept-rom-license]) (2.3.0)\n",
            "Requirement already satisfied: certifi>=2017.4.17 in /usr/local/lib/python3.11/dist-packages (from requests->autorom[accept-rom-license]) (2025.1.31)\n",
            "Downloading AutoROM-0.6.1-py3-none-any.whl (9.4 kB)\n",
            "Building wheels for collected packages: AutoROM.accept-rom-license\n",
            "  Building wheel for AutoROM.accept-rom-license (pyproject.toml) ... \u001b[?25l\u001b[?25hdone\n",
            "  Created wheel for AutoROM.accept-rom-license: filename=autorom_accept_rom_license-0.6.1-py3-none-any.whl size=446673 sha256=7d97eab7dbbaa2f79bacb829537b79eb36bc27131729bae2611c412b2d7d5bf7\n",
            "  Stored in directory: /root/.cache/pip/wheels/bc/fc/c6/8aa657c0d2089982f2dabd110efc68c61eb49831fdb7397351\n",
            "Successfully built AutoROM.accept-rom-license\n",
            "Installing collected packages: AutoROM.accept-rom-license, autorom\n",
            "Successfully installed AutoROM.accept-rom-license-0.6.1 autorom-0.6.1\n"
          ]
        }
      ],
      "source": [
        "!pip install gymnasium[atari]\n",
        "!pip install autorom[accept-rom-license]\n",
        "!pip install ale-py\n",
        "#!pip install --upgrade ipykernel\n",
        "\n",
        "import gymnasium as gym\n",
        "import matplotlib.pyplot as plt\n",
        "from matplotlib import animation\n",
        "import numpy as np\n",
        "import torch\n",
        "import torch.nn as nn\n",
        "import torch.nn.functional as F\n",
        "import torch.optim as optim\n",
        "import torchvision\n",
        "from IPython import display\n",
        "from IPython.display import HTML\n",
        "from tqdm import tqdm\n",
        "import ale_py\n",
        "\n",
        "\n",
        "!pip install --quiet \"git+https://gitlab.com/robindar/dl-scaman_checker.git\"\n",
        "from dl_scaman_checker import TP08\n",
        "TP08.check_install()\n",
        "\n",
        "device = torch.device(\"cuda\" if torch.cuda.is_available() else \"cpu\")"
      ]
    },
    {
      "cell_type": "markdown",
      "metadata": {
        "id": "f4ZQ9LYLgh1V"
      },
      "source": [
        "# Part A - Creating the environment\n",
        "First load the environment using `env = gym.make(\"ALE/Breakout-v5\", render_mode=\"rgb_array\")` (you can search the [gym documentation](https://ale.farama.org/environments/breakout/)). Initialize the environment through `env.reset()`. Check the `env.observation_space` and the `env.action_space` attributes of the environment."
      ]
    },
    {
      "cell_type": "code",
      "execution_count": null,
      "metadata": {
        "id": "UzApwg6-nbEw"
      },
      "outputs": [],
      "source": [
        "### YOUR CODE HERE ###"
      ]
    },
    {
      "cell_type": "markdown",
      "source": [
        "Try to understand how the actions impact the environment. Using `env.step(action)` generate a new state, and display it using imshow. Check the documentation [here](https://gymnasium.farama.org/api/env/#gymnasium.Env.step). Print the reward associated to your actions."
      ],
      "metadata": {
        "id": "qv0RnYYZoaJv"
      }
    },
    {
      "cell_type": "code",
      "source": [
        "### YOUR CODE HERE ###"
      ],
      "metadata": {
        "id": "lVVgqEiUaw0R"
      },
      "execution_count": null,
      "outputs": []
    },
    {
      "cell_type": "markdown",
      "metadata": {
        "id": "Bcm81lJAlEf-"
      },
      "source": [
        "Define a function called `policy` that takes as input a state and returns an action, using `env.action_space.sample()`. Using TP08.create_video(env, policy,use_gymnasium=True), create a video of a random agent playing Breakout."
      ]
    },
    {
      "cell_type": "code",
      "source": [
        "### YOUR CODE HERE ###"
      ],
      "metadata": {
        "id": "A3vQ_Hmx4F2E"
      },
      "execution_count": null,
      "outputs": []
    },
    {
      "cell_type": "markdown",
      "metadata": {
        "id": "djlaMApyoXwx"
      },
      "source": [
        "Create a class `EpsilonGreedy(model, epsilon)` that takes a model and returns its corresponding epsilon greedy policy. To do so, create a method `__call__(self, state)` that returns a random action with probability epsilon, and the action chosen by the model otherwise (i.e. the action with maximum score, where `model(states)` is a tensor of shape (1,num_actions)). Note that the output of the method should be an integer.\n",
        "\n",
        "Finally, create a video of an epsilon-greedy strategy that goes left expect with probability $\\varepsilon = 0.5$."
      ]
    },
    {
      "cell_type": "code",
      "execution_count": null,
      "metadata": {
        "id": "gk03W1O0lH3X"
      },
      "outputs": [],
      "source": [
        "### YOUR CODE HERE ###"
      ]
    },
    {
      "cell_type": "markdown",
      "metadata": {
        "id": "MaAc3mhe-oFr"
      },
      "source": [
        "# Part B - State pre-processing\n",
        "We would like to simplify the learning task by pre-processing the frames in two ways: 1) image pre-processing and 2) using frame sequences.\n",
        "\n",
        "1) The atari frame is large and contains scores at the top of the screen that is not useful for our agent (as a reward is already available). Using `torchvision.transforms` methods (`ToPILImage`, `Grayscale`, `Resize`, `functional.crop`), we first crop and resize the image to a $84\\times 84$ grayscale image. Test this preprocessing on an Atari frame."
      ]
    },
    {
      "cell_type": "code",
      "execution_count": null,
      "metadata": {
        "id": "k1G2bzfP-nmY"
      },
      "outputs": [],
      "source": [
        "img_transform = torchvision.transforms.Compose([\n",
        "    torchvision.transforms.ToPILImage(),\n",
        "    torchvision.transforms.Grayscale(),\n",
        "    lambda x : torchvision.transforms.functional.crop(x, 25, 8, 180, 144),\n",
        "    torchvision.transforms.Resize((84, 84), 0),\n",
        "    torchvision.transforms.ToTensor()\n",
        "])\n",
        "\n",
        "### YOUR CODE HERE ###"
      ]
    },
    {
      "cell_type": "markdown",
      "source": [
        "To allow our model to access the speed and direction of the ball, we will augment the state of the environment by storing a sequence of 4 consecutive frames."
      ],
      "metadata": {
        "id": "g3HBOTifoTpg"
      }
    },
    {
      "cell_type": "code",
      "source": [
        "class Preprocessing:\n",
        "    def __init__(self):\n",
        "        self.history = torch.zeros((4, 84, 84))\n",
        "\n",
        "    def __call__(self, state):\n",
        "        self.history = torch.cat([self.history[1:], img_transform(state)])\n",
        "        return self.history.unsqueeze(0).to(device)\n",
        "\n",
        "preprocess = Preprocessing()\n",
        "env.reset()\n",
        "[env.step(env.action_space.sample()) for _ in range(50)]\n",
        "print(preprocess(env.render()).shape)"
      ],
      "metadata": {
        "id": "QzI_mIu6HJuY"
      },
      "execution_count": null,
      "outputs": []
    },
    {
      "cell_type": "markdown",
      "metadata": {
        "id": "vzy4BPxc8cJ5"
      },
      "source": [
        "# Part C - Deep Q Learning algorithm\n",
        "## C.1 - Creating the model\n",
        "We are now going to implement the DQN algorithm. First, we need to encode the policy using a neural network. The following code create a convolutional neural network that takes a sequence of 4 frames from the game and returns a score for each possible action. The CNN consists of 3 convolution layers `nn.Conv2d(4, 32, 8, stride=4), nn.Conv2d(32, 64, 4, stride=2), nn.Conv2d(64, 64, 3, stride=1)` followed by an MLP with 2 linear layers `nn.Linear(7 * 7 * 64, 1024), nn.Linear(1024, 4)` and `F.leaky_relu(x, 0.01)` as activation functions (see figure below).\n",
        "\n",
        "![cnn_dql.png](data:image/png;base64,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)"
      ]
    },
    {
      "cell_type": "code",
      "source": [
        "class Model(nn.Module):\n",
        "    def __init__(self):\n",
        "        super(Model, self).__init__()\n",
        "\n",
        "        self.conv1 = nn.Conv2d(4, 32, 8, stride=4)\n",
        "        self.conv2 = nn.Conv2d(32, 64, 4, stride=2)\n",
        "        self.conv3 = nn.Conv2d(64, 64, 3, stride=1)\n",
        "        self.fc1 = nn.Linear(7 * 7 * 64, 1024)\n",
        "        self.fc2 = nn.Linear(1024, 4)\n",
        "\n",
        "        torch.nn.init.kaiming_normal_(self.conv1.weight, nonlinearity='leaky_relu')\n",
        "        torch.nn.init.kaiming_normal_(self.conv2.weight, nonlinearity='leaky_relu')\n",
        "        torch.nn.init.kaiming_normal_(self.conv3.weight, nonlinearity='leaky_relu')\n",
        "        torch.nn.init.kaiming_normal_(self.fc1.weight, nonlinearity='leaky_relu')\n",
        "        torch.nn.init.kaiming_normal_(self.fc2.weight, nonlinearity='leaky_relu')\n",
        "\n",
        "    def forward(self, x):  # The input x has the shape [N, 4, 84, 84]\n",
        "        x = F.leaky_relu(self.conv1(x), 0.01) # The output here has the shape [N, 32, 20, 20]\n",
        "        x = F.leaky_relu(self.conv2(x), 0.01) # The output here has the shape [N, 64, 9, 9]\n",
        "        x = F.leaky_relu(self.conv3(x), 0.01) # The output here has the shape [N, 64, 7, 7]\n",
        "        x = F.leaky_relu(self.fc1(x.view(x.shape[0], -1)), 0.01)\n",
        "        return self.fc2(x)"
      ],
      "metadata": {
        "id": "mRGzg1FhH-aD"
      },
      "execution_count": null,
      "outputs": []
    },
    {
      "cell_type": "markdown",
      "metadata": {
        "id": "fQ0CjnNh4BFU"
      },
      "source": [
        "## C.2 - Q-learning optimization step\n",
        "\n",
        "To avoid catastrophic forgetting, we will use a replay memory to sample past (state, action, reward) tuples `mem = TP08.Memory(max_size)`. The memory have three methods: `mem.store(state, action, reward, terminal)` to add a new element, `sample(N)` to return a mini-batch of N randomly sampled elements and `mem.size()` to return the size of the memory.\n",
        "\n",
        "Write a function `optim_step(mem, model, target_model, optimizer)` that takes one mini-batch from the memory, and performs one step of the Q-learning algorithm on it. To do so, you need to:\n",
        "\n",
        "\n",
        "1.   Sample a mini-batch $(S, S', A, R, T)$ of states, next_states, actions, rewards, and terminals from the memory.\n",
        "2.   Compute a mask to remove terminal states from the training.\n",
        "3.   Compute the approximate return using the `target_model` with `y = rewards + mask * GAMMA * torch.max(target_model(next_states), dim=1).values.view(-1, 1).detach()`\n",
        "4.   Compute the Q-values given by the model (using `model`) for the current state $S$ to the selected action $A$.\n",
        "5.   Use the smooth L1 loss to compare the model's Q-values and approximate returns.\n",
        "6.   Clip the gradient to a maximum norm of 1, and perform one step of the optimizer."
      ]
    },
    {
      "cell_type": "code",
      "source": [
        "### YOUR CODE HERE ###"
      ],
      "metadata": {
        "id": "1BUi2REV_raJ"
      },
      "execution_count": null,
      "outputs": []
    },
    {
      "cell_type": "markdown",
      "source": [
        "## C.3 - Full training loop\n",
        "Initialize the memory, model, target_model (by copying the parameters of model using `target_model.load_state_dict(model.state_dict())`), and optimizer using Adam with a learning rate of 1e-4 and eps=1.5e-4."
      ],
      "metadata": {
        "id": "k4GX2O9rGAo0"
      }
    },
    {
      "cell_type": "code",
      "source": [
        "MEM_SIZE = int(1e5) # size of replay memory\n",
        "EPISODES = int(1e3) # total training episodes\n",
        "BATCH_SIZE = 32 # minibatch update size\n",
        "GAMMA = 0.99 # discount factor\n",
        "MODEL_UPDATE_EVERY = 4 # update model once every MODEL_UPDATE_EVERY frames\n",
        "TARGET_UPDATE_EVERY = 1000 # update target once every TARGET_UPDATE_EVERY frames\n",
        "WARMUP_PHASE = 20000 # number of frames before model and target updates begin\n",
        "EPSILON_MIN = 0.1 # minimum epsilon greedy parameter during training\n",
        "EPSILON_DESCREASE_DURATION = 1e5 # epsilon is linearly decreasing from 1 to EPSILON_MIN in EPSILON_DESCREASE_DURATION frames\n",
        "TEST_EVERY = 100 # (episodes)\n",
        "NUM_TEST = 5\n",
        "\n",
        "num_frames = 0\n",
        "### YOUR CODE HERE ###"
      ],
      "metadata": {
        "id": "KPabJT92Hw7f"
      },
      "execution_count": null,
      "outputs": []
    },
    {
      "cell_type": "markdown",
      "source": [
        "Finally, write the testing and training loops by: reseting the environment, and applying the epsilon greedy `policy` on the preprocessed state at each iteration of the game. During training, you will need to store the states, actions, rewards and terminations in the memory, where a game is considered terminated if the game ended or if the user just lost a life."
      ],
      "metadata": {
        "id": "FrppqeYuGLph"
      }
    },
    {
      "cell_type": "code",
      "source": [
        "@torch.no_grad()\n",
        "def test():\n",
        "    print(\"[TESTING]\")\n",
        "    total_reward = 0\n",
        "    policy = EpsilonGreedy(model, 0.01)\n",
        "\n",
        "    for i in range(NUM_TEST):\n",
        "        ### YOUR CODE HERE ###\n",
        "\n",
        "    total_reward /= NUM_TEST\n",
        "    print(f\"[TESTING] Total Reward: {total_reward:.1f}\")\n",
        "\n",
        "def train(episode, num_frames):\n",
        "    epsilon = max(EPSILON_MIN, 1 - (1 - EPSILON_MIN) * num_frames / EPSILON_DESCREASE_DURATION)\n",
        "    policy = EpsilonGreedy(model, epsilon)\n",
        "    ### YOUR CODE HERE ###\n",
        "\n",
        "    while not done:\n",
        "        ### YOUR CODE HERE ###\n",
        "\n",
        "        if num_frames < WARMUP_PHASE:\n",
        "            continue\n",
        "\n",
        "        if num_frames % MODEL_UPDATE_EVERY == 0:\n",
        "            optim_step(mem, model, target_model, optimizer)\n",
        "\n",
        "        if num_frames % TARGET_UPDATE_EVERY == 0:\n",
        "            target_model.load_state_dict(model.state_dict())\n",
        "\n",
        "    print(f\"[EPISODE {episode}] Total Reward: {total_reward:.1f}, Frames: {num_frames - num_frames_start}, Epsilon: {epsilon:.2f}, Total Frames: {num_frames}, Memory Size: {mem.size()}\")\n",
        "    return num_frames\n",
        "\n",
        "for episode in range(EPISODES):\n",
        "    num_frames = train(episode, num_frames)\n",
        "    if episode % TEST_EVERY == 0:\n",
        "        test()"
      ],
      "metadata": {
        "id": "PxHlg5E_Q7mT"
      },
      "execution_count": null,
      "outputs": []
    },
    {
      "cell_type": "markdown",
      "metadata": {
        "id": "HkzV-N0471dY"
      },
      "source": [
        "Create a video of the new agent playing Breakout. How is the agent performing?"
      ]
    },
    {
      "cell_type": "code",
      "source": [
        "### YOUR CODE HERE ###"
      ],
      "metadata": {
        "id": "2TWgdZBgJWJg"
      },
      "execution_count": null,
      "outputs": []
    }
  ],
  "metadata": {
    "accelerator": "GPU",
    "colab": {
      "provenance": [],
      "gpuType": "L4",
      "include_colab_link": true
    },
    "kernelspec": {
      "display_name": "Python 3",
      "name": "python3"
    },
    "language_info": {
      "name": "python"
    }
  },
  "nbformat": 4,
  "nbformat_minor": 0
}